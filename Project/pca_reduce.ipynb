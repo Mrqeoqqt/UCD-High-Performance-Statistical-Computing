{
 "cells": [
  {
   "cell_type": "code",
   "execution_count": 2,
   "metadata": {},
   "outputs": [],
   "source": [
    "from sklearn.decomposition import PCA\n",
    "import pandas as pd\n",
    "import numpy as np\n",
    "import sklearn\n",
    "from sklearn.model_selection import train_test_split"
   ]
  },
  {
   "cell_type": "code",
   "execution_count": 26,
   "metadata": {},
   "outputs": [],
   "source": [
    "# load data\n",
    "filename = r'D:\\wkspacePY\\STA 141C\\data\\processed.csv'\n",
    "file_name = r'D:\\wkspacePY\\STA 141C\\data\\pca.csv'\n",
    "df = pd.read_csv(filename, index_col='shot_id')\n",
    "Y = df['shot_made_flag']\n",
    "X = df.drop(['shot_made_flag'], axis=1)\n",
    "Y = Y.as_matrix()\n",
    "Y = Y.reshape(Y.shape[0],1)\n",
    "X = X.as_matrix()\n",
    "# normalize each column to mean 0, std = 1\n",
    "S = np.std(X, axis = 1)\n",
    "M = np.mean(X, axis = 1)\n",
    "X = (X-M.reshape(M.shape[0],1))/S.reshape(S.shape[0],1)"
   ]
  },
  {
   "cell_type": "code",
   "execution_count": 27,
   "metadata": {},
   "outputs": [],
   "source": [
    "# use pca to reduce features\n",
    "ratio = 0.999\n",
    "pca = PCA(n_components=ratio)\n",
    "pca.fit(X)\n",
    "newdata = pca.transform(X)"
   ]
  },
  {
   "cell_type": "code",
   "execution_count": 28,
   "metadata": {},
   "outputs": [
    {
     "data": {
      "text/plain": [
       "(25697, 4)"
      ]
     },
     "execution_count": 28,
     "metadata": {},
     "output_type": "execute_result"
    }
   ],
   "source": [
    "newdata.shape"
   ]
  },
  {
   "cell_type": "code",
   "execution_count": 44,
   "metadata": {},
   "outputs": [
    {
     "data": {
      "text/html": [
       "<div>\n",
       "<style scoped>\n",
       "    .dataframe tbody tr th:only-of-type {\n",
       "        vertical-align: middle;\n",
       "    }\n",
       "\n",
       "    .dataframe tbody tr th {\n",
       "        vertical-align: top;\n",
       "    }\n",
       "\n",
       "    .dataframe thead th {\n",
       "        text-align: right;\n",
       "    }\n",
       "</style>\n",
       "<table border=\"1\" class=\"dataframe\">\n",
       "  <thead>\n",
       "    <tr style=\"text-align: right;\">\n",
       "      <th></th>\n",
       "      <th>0</th>\n",
       "      <th>1</th>\n",
       "      <th>2</th>\n",
       "      <th>3</th>\n",
       "      <th>shot_id</th>\n",
       "      <th>shot_made_flag</th>\n",
       "    </tr>\n",
       "  </thead>\n",
       "  <tbody>\n",
       "    <tr>\n",
       "      <th>0</th>\n",
       "      <td>1.147022</td>\n",
       "      <td>0.597616</td>\n",
       "      <td>-0.317628</td>\n",
       "      <td>0.053738</td>\n",
       "      <td>2</td>\n",
       "      <td>0.0</td>\n",
       "    </tr>\n",
       "    <tr>\n",
       "      <th>1</th>\n",
       "      <td>0.540263</td>\n",
       "      <td>0.421013</td>\n",
       "      <td>0.168510</td>\n",
       "      <td>-0.024591</td>\n",
       "      <td>3</td>\n",
       "      <td>1.0</td>\n",
       "    </tr>\n",
       "    <tr>\n",
       "      <th>2</th>\n",
       "      <td>0.329331</td>\n",
       "      <td>-0.472773</td>\n",
       "      <td>0.359887</td>\n",
       "      <td>-0.025595</td>\n",
       "      <td>4</td>\n",
       "      <td>0.0</td>\n",
       "    </tr>\n",
       "    <tr>\n",
       "      <th>3</th>\n",
       "      <td>0.246058</td>\n",
       "      <td>0.006513</td>\n",
       "      <td>-0.338787</td>\n",
       "      <td>-0.032823</td>\n",
       "      <td>5</td>\n",
       "      <td>1.0</td>\n",
       "    </tr>\n",
       "    <tr>\n",
       "      <th>4</th>\n",
       "      <td>0.966831</td>\n",
       "      <td>0.551295</td>\n",
       "      <td>-0.366527</td>\n",
       "      <td>0.037766</td>\n",
       "      <td>6</td>\n",
       "      <td>0.0</td>\n",
       "    </tr>\n",
       "    <tr>\n",
       "      <th>5</th>\n",
       "      <td>0.817036</td>\n",
       "      <td>0.009582</td>\n",
       "      <td>-0.309836</td>\n",
       "      <td>-0.009734</td>\n",
       "      <td>7</td>\n",
       "      <td>1.0</td>\n",
       "    </tr>\n",
       "    <tr>\n",
       "      <th>6</th>\n",
       "      <td>0.197382</td>\n",
       "      <td>0.278478</td>\n",
       "      <td>0.057484</td>\n",
       "      <td>-0.039814</td>\n",
       "      <td>9</td>\n",
       "      <td>1.0</td>\n",
       "    </tr>\n",
       "    <tr>\n",
       "      <th>7</th>\n",
       "      <td>-0.397351</td>\n",
       "      <td>0.158989</td>\n",
       "      <td>0.102216</td>\n",
       "      <td>-0.037211</td>\n",
       "      <td>10</td>\n",
       "      <td>0.0</td>\n",
       "    </tr>\n",
       "    <tr>\n",
       "      <th>8</th>\n",
       "      <td>-0.798869</td>\n",
       "      <td>0.416112</td>\n",
       "      <td>0.504747</td>\n",
       "      <td>-0.003359</td>\n",
       "      <td>11</td>\n",
       "      <td>0.0</td>\n",
       "    </tr>\n",
       "    <tr>\n",
       "      <th>9</th>\n",
       "      <td>1.255267</td>\n",
       "      <td>-0.408875</td>\n",
       "      <td>0.214869</td>\n",
       "      <td>0.031432</td>\n",
       "      <td>12</td>\n",
       "      <td>1.0</td>\n",
       "    </tr>\n",
       "  </tbody>\n",
       "</table>\n",
       "</div>"
      ],
      "text/plain": [
       "          0         1         2         3  shot_id  shot_made_flag\n",
       "0  1.147022  0.597616 -0.317628  0.053738        2             0.0\n",
       "1  0.540263  0.421013  0.168510 -0.024591        3             1.0\n",
       "2  0.329331 -0.472773  0.359887 -0.025595        4             0.0\n",
       "3  0.246058  0.006513 -0.338787 -0.032823        5             1.0\n",
       "4  0.966831  0.551295 -0.366527  0.037766        6             0.0\n",
       "5  0.817036  0.009582 -0.309836 -0.009734        7             1.0\n",
       "6  0.197382  0.278478  0.057484 -0.039814        9             1.0\n",
       "7 -0.397351  0.158989  0.102216 -0.037211       10             0.0\n",
       "8 -0.798869  0.416112  0.504747 -0.003359       11             0.0\n",
       "9  1.255267 -0.408875  0.214869  0.031432       12             1.0"
      ]
     },
     "execution_count": 44,
     "metadata": {},
     "output_type": "execute_result"
    }
   ],
   "source": [
    "new_df = pd.DataFrame(newdata)\n",
    "new_df['shot_id'] = df.index.values\n",
    "new_df['shot_made_flag'] = Y\n",
    "new_df.head(10)"
   ]
  },
  {
   "cell_type": "code",
   "execution_count": 45,
   "metadata": {},
   "outputs": [],
   "source": [
    "new_df.to_csv(file_name, sep=',', encoding='utf-8', index=False)"
   ]
  },
  {
   "cell_type": "code",
   "execution_count": null,
   "metadata": {},
   "outputs": [],
   "source": []
  }
 ],
 "metadata": {
  "kernelspec": {
   "display_name": "Python 3",
   "language": "python",
   "name": "python3"
  },
  "language_info": {
   "codemirror_mode": {
    "name": "ipython",
    "version": 3
   },
   "file_extension": ".py",
   "mimetype": "text/x-python",
   "name": "python",
   "nbconvert_exporter": "python",
   "pygments_lexer": "ipython3",
   "version": "3.6.4"
  }
 },
 "nbformat": 4,
 "nbformat_minor": 2
}
