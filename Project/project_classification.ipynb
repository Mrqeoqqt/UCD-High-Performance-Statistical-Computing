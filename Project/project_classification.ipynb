{
 "cells": [
  {
   "cell_type": "code",
   "execution_count": 95,
   "metadata": {},
   "outputs": [],
   "source": [
    "import pandas as pd\n",
    "import numpy as np\n",
    "import sklearn\n",
    "from sklearn.model_selection import train_test_split\n",
    "from scipy import sparse\n",
    "import time\n",
    "from sklearn import svm\n",
    "import matplotlib.pyplot as plt"
   ]
  },
  {
   "cell_type": "code",
   "execution_count": 96,
   "metadata": {},
   "outputs": [],
   "source": [
    "# input file path\n",
    "filename = r'D:\\wkspacePY\\STA 141C\\data\\processed.csv'"
   ]
  },
  {
   "cell_type": "code",
   "execution_count": 97,
   "metadata": {},
   "outputs": [],
   "source": [
    "# load and split data\n",
    "df = pd.read_csv(filename, index_col='shot_id')"
   ]
  },
  {
   "cell_type": "code",
   "execution_count": 109,
   "metadata": {},
   "outputs": [],
   "source": [
    "# training set\n",
    "# X: training matrix\n",
    "# Y: true label of training matrix\n",
    "# test set\n",
    "# test_X: test matrix\n",
    "# test_Y: true label of test matrix\n",
    "Y = df['shot_made_flag']\n",
    "X = df.drop(['shot_made_flag'], axis=1)\n",
    "Y = Y.as_matrix()\n",
    "Y = Y.reshape(Y.shape[0],1)\n",
    "X = X.as_matrix()\n",
    "# max_X = np.array([np.linalg.norm(X[:, i]) for i in range(X.shape[1])]).reshape(1, X.shape[1])\n",
    "max_X = np.array([np.max(X[:, i]) for i in range(X.shape[1])]).reshape(1, X.shape[1])\n",
    "X, test_X, Y, test_Y = train_test_split(X, Y, test_size=0.2)"
   ]
  },
  {
   "cell_type": "code",
   "execution_count": 110,
   "metadata": {},
   "outputs": [],
   "source": [
    "# Normalize\n",
    "X /= max_X\n",
    "test_X /= max_X"
   ]
  },
  {
   "cell_type": "code",
   "execution_count": 111,
   "metadata": {},
   "outputs": [],
   "source": [
    "## hyper parameters\n",
    "# number of training data\n",
    "N, D = X.shape\n",
    "# number of test data\n",
    "n, d = test_X.shape\n",
    "Lamda = 1\n",
    "# number of iteration\n",
    "# iter = 5000\n",
    "# threshold\n",
    "epsilon = 0.001\n",
    "# learning_rate\n",
    "learning_rate = 1.0 * 10 ** (-3)\n",
    "# estimated value for Y\n",
    "Yhat = []\n",
    "# value of cost function in each iteration\n",
    "costs = []"
   ]
  },
  {
   "cell_type": "code",
   "execution_count": 112,
   "metadata": {},
   "outputs": [
    {
     "name": "stderr",
     "output_type": "stream",
     "text": [
      "D:\\anaconda\\lib\\site-packages\\sklearn\\utils\\validation.py:578: DataConversionWarning: A column-vector y was passed when a 1d array was expected. Please change the shape of y to (n_samples, ), for example using ravel().\n",
      "  y = column_or_1d(y, warn=True)\n"
     ]
    },
    {
     "name": "stdout",
     "output_type": "stream",
     "text": [
      "accuracy of prediction: 0.678210\n"
     ]
    }
   ],
   "source": [
    "# logistic\n",
    "# scikit-learn implement\n",
    "# import the LogisticRegression  \n",
    "from sklearn.linear_model import LogisticRegression    \n",
    "classifier = LogisticRegression() \n",
    "classifier.fit(X, Y)   \n",
    "predict_Y = classifier.predict(test_X)\n",
    "tmp = np.array([(test_Y[i]==predict_Y[i]).astype('int') for i in range(n)])\n",
    "print(\"accuracy of prediction: %f\" % float(len(np.where(tmp > 0)[0])/n))"
   ]
  },
  {
   "cell_type": "code",
   "execution_count": 113,
   "metadata": {},
   "outputs": [],
   "source": [
    "# logistic\n",
    "# scikit-learn implement\n",
    "from sklearn.metrics import roc_curve, auc \n",
    "fpr, tpr, thresholds = roc_curve(test_Y,predict_Y)"
   ]
  },
  {
   "cell_type": "code",
   "execution_count": 120,
   "metadata": {},
   "outputs": [
    {
     "name": "stdout",
     "output_type": "stream",
     "text": [
      "Area under the ROC curve : 0.657622\n",
      "accuracy of prediction: 0.552724\n"
     ]
    },
    {
     "name": "stderr",
     "output_type": "stream",
     "text": [
      "D:\\anaconda\\lib\\site-packages\\ipykernel_launcher.py:6: DeprecationWarning: \n",
      ".ix is deprecated. Please use\n",
      ".loc for label based indexing or\n",
      ".iloc for positional indexing\n",
      "\n",
      "See the documentation here:\n",
      "http://pandas.pydata.org/pandas-docs/stable/indexing.html#ix-indexer-is-deprecated\n",
      "  \n",
      "D:\\anaconda\\lib\\site-packages\\ipykernel_launcher.py:21: DeprecationWarning: \n",
      ".ix is deprecated. Please use\n",
      ".loc for label based indexing or\n",
      ".iloc for positional indexing\n",
      "\n",
      "See the documentation here:\n",
      "http://pandas.pydata.org/pandas-docs/stable/indexing.html#ix-indexer-is-deprecated\n"
     ]
    },
    {
     "data": {
      "image/png": "[encoded data removed]",
      "text/plain": [
       "<matplotlib.figure.Figure at 0x2ce13cddeb8>"
      ]
     },
     "metadata": {},
     "output_type": "display_data"
    }
   ],
   "source": [
    "# logistic\n",
    "# scikit-learn implement\n",
    "# AUC and ROC\n",
    "roc_auc = auc(fpr, tpr)\n",
    "print(\"Area under the ROC curve : %f\" % roc_auc)\n",
    "i = np.arange(len(tpr)) # index for df\n",
    "roc = pd.DataFrame({'fpr' : pd.Series(fpr, index=i),'tpr' : pd.Series(tpr, index = i), '1-fpr' : pd.Series(1-fpr, index = i), 'tf' : pd.Series(tpr - (1-fpr), index = i), 'thresholds' : pd.Series(thresholds, index = i)})\n",
    "roc.ix[(roc.tf-0).abs().argsort()[:1]]\n",
    "# Plot tpr vs 1-fpr\n",
    "fig, ax = plt.subplots()\n",
    "plt.plot(roc['tpr'])\n",
    "plt.plot(roc['1-fpr'], color = 'red')\n",
    "plt.xlabel('1-False Positive Rate')\n",
    "plt.ylabel('True Positive Rate')\n",
    "plt.title('Receiver operating characteristic')\n",
    "ax.set_xticklabels([])\n",
    "# error matrix\n",
    "from sklearn.metrics import confusion_matrix\n",
    "cm = confusion_matrix(test_Y, predict_Y)\n",
    "# cutoff value \n",
    "i = np.arange(len(tpr)) \n",
    "roc = pd.DataFrame({'tf' : pd.Series(tpr-(1-fpr), index=i), 'threshold' : pd.Series(thresholds, index=i)})\n",
    "roc_t = roc.ix[(roc.tf-0).abs().argsort()[:1]]\n",
    "cutoff = list(roc_t['threshold'])[0]\n",
    "predict_Y = [i>cutoff for i in test_Y]\n",
    "tmp = np.array([(test_Y[i]==predict_Y[i]).astype('int') for i in range(n)])\n",
    "print(\"accuracy of prediction: %f\" % float(len(np.where(tmp > 0)[0])/n))"
   ]
  },
  {
   "cell_type": "code",
   "execution_count": 121,
   "metadata": {},
   "outputs": [
    {
     "data": {
      "text/plain": [
       "array([[2841,    0],\n",
       "       [2299,    0]], dtype=int64)"
      ]
     },
     "execution_count": 121,
     "metadata": {},
     "output_type": "execute_result"
    }
   ],
   "source": [
    "# logistic\n",
    "# scikit-learn implement\n",
    "# print error matrix\n",
    "cm"
   ]
  },
  {
   "cell_type": "code",
   "execution_count": 63,
   "metadata": {},
   "outputs": [
    {
     "name": "stderr",
     "output_type": "stream",
     "text": [
      "D:\\anaconda\\lib\\site-packages\\sklearn\\utils\\validation.py:578: DataConversionWarning: A column-vector y was passed when a 1d array was expected. Please change the shape of y to (n_samples, ), for example using ravel().\n",
      "  y = column_or_1d(y, warn=True)\n"
     ]
    },
    {
     "name": "stdout",
     "output_type": "stream",
     "text": [
      "SVM training time consumed: 690.038500 secs\n"
     ]
    }
   ],
   "source": [
    "# svm\n",
    "# training\n",
    "start = time.time()\n",
    "clf = svm.SVC()\n",
    "clf.fit(X, Y)\n",
    "end_time = time.time()\n",
    "print(\"SVM training time consumed: %lf secs\" % (end_time - start_time))"
   ]
  },
  {
   "cell_type": "code",
   "execution_count": 64,
   "metadata": {},
   "outputs": [],
   "source": [
    "# svm\n",
    "# predict\n",
    "predict = clf.predict(test_X)"
   ]
  },
  {
   "cell_type": "code",
   "execution_count": 65,
   "metadata": {},
   "outputs": [
    {
     "name": "stdout",
     "output_type": "stream",
     "text": [
      "accuracy of prediction: 0.681128\n"
     ]
    }
   ],
   "source": [
    "# svm\n",
    "# accuracy\n",
    "predict = predict.reshape(n,1)\n",
    "truth = np.array(test_Y)\n",
    "tmp = np.array([(truth[i]==predict[i]).astype('int') for i in range(n)])\n",
    "print(\"accuracy of prediction: %f\" % float(len(np.where(tmp > 0)[0])/n))"
   ]
  },
  {
   "cell_type": "code",
   "execution_count": 43,
   "metadata": {},
   "outputs": [],
   "source": [
    "# logistic\n",
    "# apply this function to each element in the matrix\n",
    "def f(x):\n",
    "    return 1/(1+np.exp(x))"
   ]
  },
  {
   "cell_type": "code",
   "execution_count": 44,
   "metadata": {},
   "outputs": [
    {
     "name": "stdout",
     "output_type": "stream",
     "text": [
      "shape of w: (116, 1) type of w: <class 'numpy.matrixlib.defmatrix.matrix'>\n"
     ]
    }
   ],
   "source": [
    "# logistic\n",
    "# initialize vector of omega\n",
    "w = np.random.randn(D)\n",
    "w = np.matrix(w).T\n",
    "print(\"shape of w:\", w.shape, \"type of w:\", type(w))"
   ]
  },
  {
   "cell_type": "code",
   "execution_count": 46,
   "metadata": {},
   "outputs": [
    {
     "name": "stdout",
     "output_type": "stream",
     "text": [
      "Converge!\n",
      "final value of cost function: 8.384418632008066\n",
      "Logistic training time consumed: 2.327092 secs\n"
     ]
    }
   ],
   "source": [
    "# logistic\n",
    "start_time = time.time()\n",
    "K = np.array(X@w) * np.array(Y)\n",
    "K = -np.array(Y) * f(K)\n",
    "result0 = X.T@K + Lamda * w\n",
    "result0 = np.sqrt((result0.T @ result0)[0, 0])\n",
    "while True:\n",
    "    Yhat = X @ w\n",
    "    delta = Yhat - Y\n",
    "    K = np.array(X@w) * np.array(Y)\n",
    "    K = -np.array(Y) * f(K)\n",
    "    result = X.T@K + Lamda * w\n",
    "    r = np.sqrt(result.T.dot(result)[0, 0])\n",
    "    if r < epsilon * result0:\n",
    "        print(\"Converge!\")\n",
    "        break\n",
    "    # update coefficient vector w\n",
    "    w = w - learning_rate * result\n",
    "    # store the cost\n",
    "    costs.append(r)\n",
    "# print out optimized w vector\n",
    "end_time = time.time()\n",
    "print(\"final value of cost function:\", costs[-1])\n",
    "print(\"Logistic training time consumed: %lf secs\" % (end_time - start_time))"
   ]
  },
  {
   "cell_type": "code",
   "execution_count": 47,
   "metadata": {},
   "outputs": [
    {
     "name": "stdout",
     "output_type": "stream",
     "text": [
      "accuracy of training: 0.443450\n",
      "accuracy of prediction: 0.457004\n"
     ]
    }
   ],
   "source": [
    "# logistic\n",
    "# accuracy\n",
    "delta_train = np.array(X @ w) * np.array(Y)\n",
    "print(\"accuracy of training: %f\" % float(len(np.where(delta_train > 0)[0])/N))\n",
    "delta_test = np.array(test_X @ w) * np.array(test_Y)\n",
    "print(\"accuracy of prediction: %f\" % float(len(np.where(delta_test > 0)[0])/n))"
   ]
  },
  {
   "cell_type": "code",
   "execution_count": null,
   "metadata": {},
   "outputs": [],
   "source": []
  }
 ],
 "metadata": {
  "kernelspec": {
   "display_name": "Python 3",
   "language": "python",
   "name": "python3"
  },
  "language_info": {
   "codemirror_mode": {
    "name": "ipython",
    "version": 3
   },
   "file_extension": ".py",
   "mimetype": "text/x-python",
   "name": "python",
   "nbconvert_exporter": "python",
   "pygments_lexer": "ipython3",
   "version": "3.6.4"
  }
 },
 "nbformat": 4,
 "nbformat_minor": 2
}
